{
 "cells": [
  {
   "cell_type": "code",
   "execution_count": 22,
   "metadata": {
    "collapsed": false
   },
   "outputs": [
    {
     "name": "stdout",
     "output_type": "stream",
     "text": [
      "If this were a real system we would send I need pliers order to Sup Plier\n"
     ]
    }
   ],
   "source": [
    "class Contact:\n",
    "    all_contacts = []\n",
    "    def __init__(self, name, email):\n",
    "        self.name = name\n",
    "        self.email = email\n",
    "        Contact.all_contacts.append(self)\n",
    "        \n",
    "class Supplier(Contact):\n",
    "    def order(self, order):\n",
    "        print(\"If this were a real system we would send {} order to {}\".format(order, self.name))\n",
    "\n",
    "c = Contact(\"Some Body\", \"somebody@example.net\")\n",
    "s = Supplier(\"Sup Plier\", \"supplier@example.net\")\n",
    "\n",
    "s.order(\"I need pliers\")"
   ]
  }
 ],
 "metadata": {
  "kernelspec": {
   "display_name": "Python 3",
   "language": "python",
   "name": "python3"
  }
 },
 "nbformat": 4,
 "nbformat_minor": 0
}
