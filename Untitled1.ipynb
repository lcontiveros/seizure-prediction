{
 "cells": [
  {
   "cell_type": "markdown",
   "metadata": {},
   "source": [
    "# Melbourne University AES/MathWorks/NIH Seizure Prediction\n",
    "\n",
    "La epilepsia afecta a cerca del 1% de la población mundial y está caracterizada por la ocurrencia de convulsiones repentinas. Para la mayoría de los pacientes es suficiente proporcionarles una alta dosis de medicamentos anticonvulsivos para prevenir esta crisis, sin embargo por esta misma razón es que frecuentemente sufren de esfectos secundarios. Entre el 20 y 40 por ciento de los pacientes con epilepsia, los medicamentos no son efectivos.\n",
    "\n",
    "Los sistemas de prediccción de convulsiones tienen el potencial de auxiliar a los pacientes con epilepsia a tener una mejor calidad de vida. En base a la actividad electrica del cerebro (EEG), un algoritmo efectivo debería de predecir con alto grado de probabilidad la ocurrencia de las convulsiones, por lo tanto se pueden diseñar dispositivos que adviertan al usuario y así evitar actividades peligrosas y administrar la dosis de medicamente adecuada.\n",
    "\n",
    "![ ](\"Seizure Prediction Grahic.png\")\n",
    "\n",
    "### Background\n",
    "\n",
    "Existe nueva evidencia de que la actividad dinamica temporal del cerebro puede ser clasificada en 4 clases: Preictal, Interictal, Ictal y Post-ictal. Los sistemas de predicción deben de ser capaces de identificar un estado preictal que puede ser diferenciado de los demás estados, de esta manera se podría prevenir la convulsión. \n",
    "\n",
    "Actividad del cerebro humano fue guardada en la forma de EEG intracranial, lo que involucra electrodos posicionados en la superficie de la corteza cerebral capturando las señales electricas con un sistema de monitoreo.\n",
    "\n",
    "### Dataset\n",
    "\n",
    "Los datos están organizados en carpetas contenedoras de datos de entrenamiento y de pruebas por cada paciente. Para esta primera parte se selecciono la carpeta train_1 de datos de entrenammiento organizada en archivos nombrados de la siguiente manera.\n",
    "\n",
    "i_j_k.mat - El j-ésimo segmento de datos correspondiente a la k clase (k = 0 para interictal, k = 1 para preictal) para el i-ésimo paciente.\n",
    "\n",
    "Y dentro de este archivo .mat encontraremos lo siguiente: \n",
    "\n",
    "data: Una matriz de muestra de valores iEEG ordenada fila y columna como muestra y electrodo respectivamente.\n",
    "nSamplesSegment: Número total de muestras (columnas).\n",
    "iEEGsamplingRate: Tasa de muestreo de datos, es decir, el número de muestras de datos que representan 1 segundo de los EEG.\n",
    "channelIndices: Un arreglo de índices correspondiente a las columnas en data.\n",
    "sequence: El índice del segmento de datos dentro de la serie de una hora de clips.\n",
    "\n",
    "![ ](\"EEG.png\")"
   ]
  },
  {
   "cell_type": "code",
   "execution_count": 1,
   "metadata": {
    "collapsed": false
   },
   "outputs": [],
   "source": [
    "import sys\n",
    "import os\n",
    "import numpy as np\n",
    "import pandas as pd\n",
    "from math import *\n",
    "from scipy.io import loadmat\n",
    "\n",
    "def mat_to_data(path):\n",
    "    mat = loadmat(path)\n",
    "    names = mat['dataStruct'].dtype.names\n",
    "    ndata = {n: mat['dataStruct'][n][0, 0] for n in names}\n",
    "    return ndata"
   ]
  },
  {
   "cell_type": "code",
   "execution_count": null,
   "metadata": {
    "collapsed": false
   },
   "outputs": [],
   "source": [
    "feat = mat_to_data('train_1/train_1/1_7_1.mat')\n",
    "feat['data'] = np.vstack((feat['data'],mat_to_data('train_1/train_1/1_8_1.mat')['data']))\n",
    "feat['data'] = np.vstack((feat['data'],mat_to_data('train_1/train_1/1_9_1.mat')['data']))\n",
    "feat['data'] = np.vstack((feat['data'],mat_to_data('train_1/train_1/1_10_1.mat')['data']))\n",
    "feat['data'] = np.vstack((feat['data'],mat_to_data('train_1/train_1/1_11_1.mat')['data']))\n",
    "feat['data'] = np.vstack((feat['data'],mat_to_data('train_1/train_1/1_12_1.mat')['data']))\n",
    "\n",
    "feat2 = mat_to_data('train_1/train_1/1_1_0.mat')\n",
    "feat2['data'] = np.vstack((feat2['data'],mat_to_data('train_1/train_1/1_2_0.mat')['data']))\n",
    "feat2['data'] = np.vstack((feat2['data'],mat_to_data('train_1/train_1/1_3_0.mat')['data']))\n",
    "feat2['data'] = np.vstack((feat2['data'],mat_to_data('train_1/train_1/1_4_0.mat')['data']))\n",
    "feat2['data'] = np.vstack((feat2['data'],mat_to_data('train_1/train_1/1_5_0.mat')['data']))\n",
    "feat2['data'] = np.vstack((feat2['data'],mat_to_data('train_1/train_1/1_6_0.mat')['data']))\n",
    "\n",
    "print(feat['data'])\n",
    "print(feat2['data'])"
   ]
  },
  {
   "cell_type": "code",
   "execution_count": null,
   "metadata": {
    "collapsed": false
   },
   "outputs": [],
   "source": [
    "df = pd.DataFrame(data=feat['data'])\n",
    "df2 = pd.DataFrame(data=feat2['data'])\n",
    "for column in df:\n",
    "    df.loc[df[column] == 0,column] = np.nan \n",
    "for column in df2:\n",
    "    df2.loc[df2[column] == 0,column] = np.nan \n",
    "print(df.describe(),df2.describe(),sep='\\n')"
   ]
  },
  {
   "cell_type": "code",
   "execution_count": null,
   "metadata": {
    "collapsed": true
   },
   "outputs": [],
   "source": [
    "%matplotlib inline\n",
    "\n",
    "import matplotlib\n",
    "import matplotlib.pyplot as plt"
   ]
  },
  {
   "cell_type": "code",
   "execution_count": null,
   "metadata": {
    "collapsed": false
   },
   "outputs": [],
   "source": [
    "df[0].plot(figsize=(20,10)).set_ylim([-300, 300])"
   ]
  },
  {
   "cell_type": "code",
   "execution_count": null,
   "metadata": {
    "collapsed": false
   },
   "outputs": [],
   "source": [
    "df2[0].plot(figsize=(20,10)).set_ylim([-300, 300])"
   ]
  },
  {
   "cell_type": "code",
   "execution_count": null,
   "metadata": {
    "collapsed": false
   },
   "outputs": [],
   "source": []
  }
 ],
 "metadata": {
  "kernelspec": {
   "display_name": "Python 3",
   "language": "python",
   "name": "python3"
  },
  "language_info": {
   "codemirror_mode": {
    "name": "ipython",
    "version": 3
   },
   "file_extension": ".py",
   "mimetype": "text/x-python",
   "name": "python",
   "nbconvert_exporter": "python",
   "pygments_lexer": "ipython3",
   "version": "3.5.1"
  }
 },
 "nbformat": 4,
 "nbformat_minor": 0
}
